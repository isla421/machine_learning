{
 "cells": [
  {
   "cell_type": "code",
   "execution_count": 1,
   "id": "a5409bea-91a7-464e-9ac0-1159851b24c8",
   "metadata": {},
   "outputs": [],
   "source": [
    "from sklearn.datasets import load_diabetes\n",
    "from sklearn.linear_model import LinearRegression\n",
    "from sklearn.ensemble import RandomForestRegressor\n",
    "from sklearn.model_selection import train_test_split\n",
    "import seaborn as sns\n",
    "import matplotlib.pyplot as plt\n",
    "import pandas as pd\n",
    "import numpy as np"
   ]
  },
  {
   "cell_type": "code",
   "execution_count": 1,
   "id": "3830ac6c-db04-4e6f-9320-424407b8efa7",
   "metadata": {},
   "outputs": [
    {
     "ename": "NameError",
     "evalue": "name 'load_diabetes' is not defined",
     "output_type": "error",
     "traceback": [
      "\u001b[31m---------------------------------------------------------------------------\u001b[39m",
      "\u001b[31mNameError\u001b[39m                                 Traceback (most recent call last)",
      "\u001b[36mCell\u001b[39m\u001b[36m \u001b[39m\u001b[32mIn[1]\u001b[39m\u001b[32m, line 3\u001b[39m\n\u001b[32m      1\u001b[39m \u001b[38;5;66;03m# Import Data\u001b[39;00m\n\u001b[32m----> \u001b[39m\u001b[32m3\u001b[39m X, y = \u001b[43mload_diabetes\u001b[49m(return_X_y=\u001b[38;5;28;01mTrue\u001b[39;00m, as_frame=\u001b[38;5;28;01mTrue\u001b[39;00m, scaled=\u001b[38;5;28;01mTrue\u001b[39;00m)\n\u001b[32m      4\u001b[39m \u001b[38;5;66;03m# X.drop(['s6', 'age', 's3'], axis=1, inplace=True)\u001b[39;00m\n\u001b[32m      5\u001b[39m X_train, X_test, y_train, y_test = train_test_split(X, y, train_size = \u001b[32m0.8\u001b[39m, random_state=\u001b[32m42\u001b[39m)\n",
      "\u001b[31mNameError\u001b[39m: name 'load_diabetes' is not defined"
     ]
    }
   ],
   "source": [
    "# Import Data\n",
    "\n",
    "X, y = load_diabetes(return_X_y=True, as_frame=True, scaled=True)\n",
    "# X.drop(['s6', 'age', 's3'], axis=1, inplace=True)\n",
    "X_train, X_test, y_train, y_test = train_test_split(X, y, train_size = 0.8, random_state=42)\n",
    "X.head()"
   ]
  },
  {
   "cell_type": "code",
   "execution_count": 3,
   "id": "7f5d918c-020b-4097-a913-97e213a902f1",
   "metadata": {},
   "outputs": [
    {
     "data": {
      "text/plain": [
       "0.43940861599898584"
      ]
     },
     "execution_count": 3,
     "metadata": {},
     "output_type": "execute_result"
    }
   ],
   "source": [
    "model = 'RF'\n",
    "\n",
    "clf = RandomForestRegressor() if model=='RF' else LinearRegression()\n",
    "clf.fit(X_train, y_train)  # train model\n",
    "clf.score(X_test, y_test)  # evaluate model"
   ]
  },
  {
   "cell_type": "code",
   "execution_count": 4,
   "id": "29a19d29-dabe-4430-8913-2ff3459ed95d",
   "metadata": {
    "scrolled": true
   },
   "outputs": [
    {
     "data": {
      "text/plain": [
       "bmi    0.354495\n",
       "s5     0.230627\n",
       "bp     0.086232\n",
       "s6     0.067037\n",
       "s2     0.063865\n",
       "age    0.058740\n",
       "s1     0.051694\n",
       "s3     0.050948\n",
       "s4     0.027309\n",
       "sex    0.009052\n",
       "dtype: float64"
      ]
     },
     "execution_count": 4,
     "metadata": {},
     "output_type": "execute_result"
    }
   ],
   "source": [
    "# feature importance\n",
    "\n",
    "data = clf.feature_importances_ if model=='RF' else clf.coef_\n",
    "pd.Series(data, index=X.columns).sort_values(ascending=False)"
   ]
  },
  {
   "cell_type": "code",
   "execution_count": 5,
   "id": "896d71c3-e055-44cb-b8ef-e1912e2d1efb",
   "metadata": {},
   "outputs": [
    {
     "data": {
      "image/png": "[encoded data removed]",
      "text/plain": [
       "<Figure size 400x200 with 1 Axes>"
      ]
     },
     "metadata": {},
     "output_type": "display_data"
    }
   ],
   "source": [
    "# Scatterplot y=y_true Vs x=y_pred\n",
    "\n",
    "plt.figure(figsize=(4, 2))\n",
    "y_pred = clf.predict(X_test)\n",
    "sns.scatterplot(x=y_pred, y=y_test, size=0.3, legend=False)\n",
    "plt.show()"
   ]
  }
 ],
 "metadata": {
  "kernelspec": {
   "display_name": "Python 3 (ipykernel)",
   "language": "python",
   "name": "python3"
  },
  "language_info": {
   "codemirror_mode": {
    "name": "ipython",
    "version": 3
   },
   "file_extension": ".py",
   "mimetype": "text/x-python",
   "name": "python",
   "nbconvert_exporter": "python",
   "pygments_lexer": "ipython3",
   "version": "3.11.2"
  }
 },
 "nbformat": 4,
 "nbformat_minor": 5
}
